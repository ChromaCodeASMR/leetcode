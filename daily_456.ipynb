{
 "cells": [
  {
   "cell_type": "code",
   "execution_count": 49,
   "metadata": {},
   "outputs": [],
   "source": [
    "from typing import List\n",
    "from copy import copy\n",
    "import ast"
   ]
  },
  {
   "cell_type": "code",
   "execution_count": 85,
   "metadata": {},
   "outputs": [],
   "source": [
    "class Solution:\n",
    "    def check_encompass(self, pairs, new_pair):\n",
    "        for old_pair in pairs:\n",
    "            # old pair encompasses new pair\n",
    "            if old_pair[0] <= new_pair[0] and old_pair[1] >= new_pair[1]:\n",
    "                return pairs\n",
    "            # new pair encompasses an old pair\n",
    "            if new_pair[0] <= old_pair[0] and new_pair[1] >= old_pair[1]:\n",
    "                pairs.remove(old_pair)\n",
    "                return self.check_encompass(pairs, new_pair)\n",
    "        pairs.append(new_pair)\n",
    "        return pairs\n",
    "    \n",
    "\n",
    "    def find132pattern(self, nums: List[int]) -> bool:\n",
    "            n = len(nums)\n",
    "            if n < 3:\n",
    "                return False\n",
    "            incomplete_mins = [nums[0]]\n",
    "            full_pairs = []\n",
    "            potential_new_min = None\n",
    "            for cur_value in nums[1:]:\n",
    "                potential_new_min = None\n",
    "                for incomplete_min in incomplete_mins:\n",
    "                    # check for fitting max\n",
    "                    if (incomplete_min < cur_value):\n",
    "                        incomplete_mins.remove(incomplete_min)\n",
    "                        full_pairs = self.check_encompass(full_pairs, [incomplete_min, cur_value])\n",
    "                    # update the min (if max hasn't been set yet)\n",
    "                    elif (cur_value < incomplete_min):\n",
    "                        incomplete_mins[incomplete_mins.index(incomplete_min)] = cur_value\n",
    "                for old_pair in full_pairs:\n",
    "                    # increase the maximum with new value\n",
    "                    if (old_pair[1] < cur_value):\n",
    "                        full_pairs = self.check_encompass(full_pairs, [old_pair[0], cur_value])\n",
    "                    # check for middle value (132)\n",
    "                    elif (old_pair[0] < cur_value) and \\\n",
    "                            (cur_value < old_pair[1]):\n",
    "                        return True\n",
    "                    # check for new minimum\n",
    "                    elif (cur_value < old_pair[0]):\n",
    "                        potential_new_min = cur_value\n",
    "                # add new candidate entry\n",
    "                if potential_new_min is not None:\n",
    "                    incomplete_mins.append(potential_new_min)\n",
    "                # if len(candidate_pairs) < 10:\n",
    "                #     print(f\"{cur_value=}\")\n",
    "                #     print(f\"{candidate_pairs=}\")\n",
    "            return False\n",
    "    \n",
    "solution = Solution()"
   ]
  },
  {
   "cell_type": "code",
   "execution_count": 86,
   "metadata": {},
   "outputs": [
    {
     "name": "stdout",
     "output_type": "stream",
     "text": [
      "True\n",
      "True\n",
      "True\n",
      "True\n",
      "True\n"
     ]
    }
   ],
   "source": [
    "print(solution.find132pattern(nums = [1,2,3,4]) == False)\n",
    "print(solution.find132pattern(nums = [3,1,4,2]) == True)\n",
    "print(solution.find132pattern(nums = [-1,3,2,0]) == True)\n",
    "print(solution.find132pattern(nums = [1,0,1,-4,-3]) == False)\n",
    "print(solution.find132pattern(nums = [40,50,25,35,15,35,20]) == True)"
   ]
  },
  {
   "cell_type": "code",
   "execution_count": 87,
   "metadata": {},
   "outputs": [
    {
     "data": {
      "text/plain": [
       "False"
      ]
     },
     "execution_count": 87,
     "metadata": {},
     "output_type": "execute_result"
    }
   ],
   "source": [
    "with open('long_input1.txt', 'r') as file:\n",
    "    content = file.read()\n",
    "    # Use ast.literal_eval to safely convert the string to a Python list\n",
    "    nums = ast.literal_eval(content)\n",
    "\n",
    "solution.find132pattern(nums = nums)"
   ]
  },
  {
   "cell_type": "code",
   "execution_count": 88,
   "metadata": {},
   "outputs": [
    {
     "name": "stdout",
     "output_type": "stream",
     "text": [
      "False\n"
     ]
    }
   ],
   "source": [
    "with open('long_input2.txt', 'r') as file:\n",
    "    content = file.read()\n",
    "    # Use ast.literal_eval to safely convert the string to a Python list\n",
    "    nums = ast.literal_eval(content)\n",
    "print(solution.find132pattern(nums = nums) == True)"
   ]
  },
  {
   "cell_type": "code",
   "execution_count": 89,
   "metadata": {},
   "outputs": [
    {
     "name": "stdout",
     "output_type": "stream",
     "text": [
      "True\n"
     ]
    }
   ],
   "source": [
    "print(solution.find132pattern(nums = [40,50,25,35,15,35,20]) == True)"
   ]
  },
  {
   "cell_type": "code",
   "execution_count": null,
   "metadata": {},
   "outputs": [],
   "source": []
  }
 ],
 "metadata": {
  "kernelspec": {
   "display_name": "venv",
   "language": "python",
   "name": "python3"
  },
  "language_info": {
   "codemirror_mode": {
    "name": "ipython",
    "version": 3
   },
   "file_extension": ".py",
   "mimetype": "text/x-python",
   "name": "python",
   "nbconvert_exporter": "python",
   "pygments_lexer": "ipython3",
   "version": "3.11.5"
  },
  "orig_nbformat": 4
 },
 "nbformat": 4,
 "nbformat_minor": 2
}
